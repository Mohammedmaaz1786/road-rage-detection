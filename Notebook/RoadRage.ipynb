{
 "cells": [
  {
   "cell_type": "markdown",
   "metadata": {},
   "source": [
    "📂 1. Import Required Libraries"
   ]
  },
  {
   "cell_type": "code",
   "execution_count": null,
   "metadata": {},
   "outputs": [],
   "source": [
    "# 📌 Import necessary libraries\n",
    "import os\n",
    "import numpy as np\n",
    "import tensorflow as tf\n",
    "from tensorflow.keras.models import load_model\n",
    "from tensorflow.keras.callbacks import EarlyStopping, ReduceLROnPlateau\n",
    "from tensorflow.keras.utils import Sequence\n",
    "from sklearn.utils.class_weight import compute_class_weight\n",
    "from sklearn.metrics import classification_report, confusion_matrix\n",
    "import matplotlib.pyplot as plt\n",
    "import seaborn as sns\n",
    "import cv2"
   ]
  },
  {
   "cell_type": "markdown",
   "metadata": {},
   "source": [
    "🧠 2. Set Configuration Variables"
   ]
  },
  {
   "cell_type": "code",
   "execution_count": null,
   "metadata": {},
   "outputs": [],
   "source": [
    "# 📌 Set this to True if you need to convert videos to .npy files\n",
    "CONVERT_VIDEOS = True"
   ]
  },
  {
   "cell_type": "markdown",
   "metadata": {},
   "source": [
    "📦 3. Define the Data Generator"
   ]
  },
  {
   "cell_type": "code",
   "execution_count": null,
   "metadata": {},
   "outputs": [],
   "source": [
    "# 📌 DataGenerator class to load and process videos\n",
    "class DataGenerator(Sequence):\n",
    "    def __init__(self, data_folder, batch_size=32, dim=(30, 150, 150), n_channels=3, n_classes=2, shuffle=True):\n",
    "        self.dim = dim\n",
    "        self.batch_size = batch_size\n",
    "        self.n_channels = n_channels\n",
    "        self.n_classes = n_classes\n",
    "        self.shuffle = shuffle\n",
    "        self.data_folder = data_folder\n",
    "        \n",
    "        self.files = []\n",
    "        self.labels = []\n",
    "        \n",
    "        for label in ['Fight', 'NonFight']:\n",
    "            folder = os.path.join(data_folder, label)\n",
    "            for file in os.listdir(folder):\n",
    "                if file.endswith('.npy'):\n",
    "                    self.files.append(os.path.join(folder, file))\n",
    "                    self.labels.append(1 if label == 'Fight' else 0)\n",
    "        \n",
    "        self.indexes = np.arange(len(self.files))\n",
    "        self.on_epoch_end()\n",
    "\n",
    "    def __len__(self):\n",
    "        return int(np.floor(len(self.files) / self.batch_size))\n",
    "\n",
    "    def __getitem__(self, index):\n",
    "        indexes = self.indexes[index*self.batch_size:(index+1)*self.batch_size]\n",
    "        X, y = self.__data_generation(indexes)\n",
    "        return X, y\n",
    "\n",
    "    def on_epoch_end(self):\n",
    "        self.indexes = np.arange(len(self.files))\n",
    "        if self.shuffle:\n",
    "            np.random.shuffle(self.indexes)\n",
    "\n",
    "    def __data_generation(self, indexes):\n",
    "        X = np.empty((self.batch_size, *self.dim, self.n_channels))\n",
    "        y = np.empty(self.batch_size, dtype=int)\n",
    "\n",
    "        for i, idx in enumerate(indexes):\n",
    "            X[i,] = np.load(self.files[idx]) / 255.0  # Load and normalize\n",
    "            y[i] = self.labels[idx]\n",
    "\n",
    "        return X, y"
   ]
  },
  {
   "cell_type": "markdown",
   "metadata": {},
   "source": [
    "🎥 4. Convert Videos to .npy Format"
   ]
  },
  {
   "cell_type": "code",
   "execution_count": null,
   "metadata": {},
   "outputs": [],
   "source": [
    "# 📌 Function to convert videos to .npy format\n",
    "def convert_videos_to_npy(input_path, output_path):\n",
    "    class_counters = {\"Fight\": 1, \"NonFight\": 1}  # Counters for naming files\n",
    "\n",
    "    for class_name in os.listdir(input_path):\n",
    "        class_dir = os.path.join(input_path, class_name)\n",
    "        class_output_dir = os.path.join(output_path, class_name)\n",
    "\n",
    "        # Create output subdirectory for the class\n",
    "        os.makedirs(class_output_dir, exist_ok=True)\n",
    "\n",
    "        if os.path.isdir(class_dir):\n",
    "            for video_name in os.listdir(class_dir):\n",
    "                video_path = os.path.join(class_dir, video_name)\n",
    "                if video_name.endswith(('.mp4', '.avi', '.mkv')):  # Add more formats if needed\n",
    "                    cap = cv2.VideoCapture(video_path)\n",
    "                    frames = []\n",
    "\n",
    "                    # Read frames from the video\n",
    "                    while True:\n",
    "                        ret, frame = cap.read()\n",
    "                        if not ret:\n",
    "                            break\n",
    "                        frame = cv2.resize(frame, (150, 150))  \n",
    "                        frame = cv2.cvtColor(frame, cv2.COLOR_BGR2RGB)\n",
    "                        frames.append(frame)\n",
    "\n",
    "                    cap.release()\n",
    "\n",
    "                    # Convert frames to a numpy array\n",
    "                    frames_array = np.array(frames, dtype=np.uint8)\n",
    "\n",
    "                    # Generate filename based on class and counter\n",
    "                    file_prefix = \"F\" if class_name == \"Fight\" else \"NF\"\n",
    "                    output_file = os.path.join(class_output_dir, f\"{file_prefix}_{class_counters[class_name]}.npy\")\n",
    "\n",
    "                    np.save(output_file, frames_array)\n",
    "                    print(f\"Converted and saved: {output_file}\")\n",
    "\n",
    "                    class_counters[class_name] += 1"
   ]
  },
  {
   "cell_type": "markdown",
   "metadata": {},
   "source": [
    "🛠 5. Load Pretrained Model\n"
   ]
  },
  {
   "cell_type": "code",
   "execution_count": null,
   "metadata": {},
   "outputs": [],
   "source": [
    "# 📌 Load the pre-trained violence detection model\n",
    "model = load_model('violence_detection_model2.h5')\n",
    "print(\"Pretrained Violence Model Loaded Successfully!\")"
   ]
  },
  {
   "cell_type": "markdown",
   "metadata": {},
   "source": [
    "📂 6. Prepare Dataset for Training"
   ]
  },
  {
   "cell_type": "code",
   "execution_count": null,
   "metadata": {},
   "outputs": [],
   "source": [
    "# 📌 Paths for Road Rage dataset\n",
    "road_rage_dataset_folder = \"Numpy_Videos/RoadRageDataset\"\n",
    "output_folder = \"Numpy_Videos\"\n",
    "\n",
    "# 📌 Convert videos to .npy format if needed\n",
    "if CONVERT_VIDEOS:\n",
    "    convert_videos_to_npy(road_rage_dataset_folder, output_folder)\n",
    "\n",
    "# 📌 Create data generators\n",
    "print(\"Creating data generators for the road rage dataset...\")\n",
    "train_generator = DataGenerator(output_folder, batch_size=16)\n",
    "validation_generator = DataGenerator(output_folder, batch_size=16, shuffle=False)\n",
    "print(\"Data generators created successfully!\")"
   ]
  },
  {
   "cell_type": "markdown",
   "metadata": {},
   "source": [
    "⚖ 7. Handle Class Imbalance"
   ]
  },
  {
   "cell_type": "code",
   "execution_count": null,
   "metadata": {},
   "outputs": [],
   "source": [
    "# 📌 Compute class weights for imbalanced dataset\n",
    "y_labels = np.concatenate([label for _, label in train_generator])\n",
    "class_weights = compute_class_weight('balanced', classes=np.unique(y_labels), y=y_labels)\n",
    "class_weights_dict = {i: class_weights[i] for i in range(len(class_weights))}"
   ]
  },
  {
   "cell_type": "markdown",
   "metadata": {},
   "source": [
    "🎯 8. Fine-Tune the Model"
   ]
  },
  {
   "cell_type": "code",
   "execution_count": null,
   "metadata": {},
   "outputs": [],
   "source": [
    "# 📌 Fine-tune the model on the new dataset\n",
    "print(\"Starting model fine-tuning process...\")\n",
    "early_stopping = EarlyStopping(monitor='val_loss', patience=5, restore_best_weights=True)\n",
    "lr_scheduler = ReduceLROnPlateau(monitor='val_loss', factor=0.5, patience=3)\n",
    "\n",
    "# 📌 Display model summary\n",
    "print(\"Model Summary:\")\n",
    "model.summary()\n",
    "\n",
    "# 📌 Train the model\n",
    "history = model.fit(train_generator, \n",
    "                    validation_data=validation_generator,\n",
    "                    epochs=20,\n",
    "                    class_weight=class_weights_dict,\n",
    "                    callbacks=[early_stopping, lr_scheduler])\n",
    "print(\"Model fine-tuning process completed!\")"
   ]
  },
  {
   "cell_type": "markdown",
   "metadata": {},
   "source": [
    "💾 9. Save the Fine-Tuned Model"
   ]
  },
  {
   "cell_type": "code",
   "execution_count": null,
   "metadata": {},
   "outputs": [],
   "source": [
    "# 📌 Save the newly trained model\n",
    "model.save('road_rage_detection_model2.h5')\n",
    "print(\"Fine-Tuned Road Rage Model Saved as 'road_rage_detection_model2.h5'\")"
   ]
  },
  {
   "cell_type": "markdown",
   "metadata": {},
   "source": [
    "📊 10. Evaluate Model Performance"
   ]
  },
  {
   "cell_type": "code",
   "execution_count": null,
   "metadata": {},
   "outputs": [],
   "source": [
    "# 📌 Generate predictions for the test set\n",
    "y_pred = model.predict(validation_generator)\n",
    "y_pred_classes = (y_pred > 0.5).astype(int).flatten()\n",
    "\n",
    "# 📌 Collect true labels\n",
    "y_true = np.concatenate([label for _, label in validation_generator])\n",
    "y_true = y_true[:len(y_pred_classes)]  # Ensure lengths match\n",
    "\n",
    "# 📌 Print classification report\n",
    "print(\"\\nClassification Report:\")\n",
    "print(classification_report(y_true, y_pred_classes))"
   ]
  },
  {
   "cell_type": "markdown",
   "metadata": {},
   "source": [
    "📈 11. Plot Confusion Matrix"
   ]
  },
  {
   "cell_type": "code",
   "execution_count": null,
   "metadata": {},
   "outputs": [],
   "source": [
    "# 📌 Compute confusion matrix\n",
    "cm = confusion_matrix(y_true, y_pred_classes)\n",
    "\n",
    "# 📌 Plot confusion matrix\n",
    "plt.figure(figsize=(8, 6))\n",
    "sns.heatmap(cm, annot=True, fmt='d', cmap='Blues', xticklabels=['NonFight', 'Fight'], yticklabels=['NonFight', 'Fight'])\n",
    "plt.title('Confusion Matrix')\n",
    "plt.ylabel('True Label')\n",
    "plt.xlabel('Predicted Label')\n",
    "plt.show()"
   ]
  }
 ],
 "metadata": {
  "kernelspec": {
   "display_name": "newenv",
   "language": "python",
   "name": "python3"
  },
  "language_info": {
   "name": "python",
   "version": "3.8.20"
  }
 },
 "nbformat": 4,
 "nbformat_minor": 2
}
